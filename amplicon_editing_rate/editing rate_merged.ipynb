{
 "cells": [
  {
   "cell_type": "code",
   "execution_count": 1,
   "id": "292db9d8",
   "metadata": {},
   "outputs": [],
   "source": [
    "import numpy as np\n",
    "import gzip\n",
    "# Using file output from FLASH (See Amplicon sequencing and data analysis)\n",
    "f = gzip.open('./P3.extendedFrags.fastq.gz') # Example from eLIDAR cells cultured with ligand\n",
    "#f = gzip.open('./N3.extendedFrags.fastq.gz') # Example from eLIDAR cells cultured without ligand\n",
    "doc1 = f.readlines()\n",
    "f.close()"
   ]
  },
  {
   "cell_type": "code",
   "execution_count": 2,
   "id": "6e4880dd",
   "metadata": {},
   "outputs": [
    {
     "name": "stdout",
     "output_type": "stream",
     "text": [
      "total # of reads: 334022.0\n"
     ]
    }
   ],
   "source": [
    "total_reads = len(doc1)/4\n",
    "print('total # of reads:',total_reads)"
   ]
  },
  {
   "cell_type": "code",
   "execution_count": 3,
   "id": "199dcf3c",
   "metadata": {},
   "outputs": [],
   "source": [
    "#  function to convert chars to score\n",
    "def string2ascii(s, l):\n",
    "    scores = [ord(c)-33 for c in s]\n",
    "    # if average score of window (3) is < 27 = low confidence, else return average score of all read\n",
    "    for i in range(len(scores)-3):\n",
    "        if ((scores[i]+scores[i+1]+scores[i+2]+scores[i+3])/3)<27:\n",
    "            return 1\n",
    "    return sum(scores)/l "
   ]
  },
  {
   "cell_type": "code",
   "execution_count": 4,
   "id": "6c613a25",
   "metadata": {},
   "outputs": [
    {
     "name": "stdout",
     "output_type": "stream",
     "text": [
      "High quality reads: 304176\n",
      "--> Fraction of high quality reads: 0.9106466041158966\n",
      "Reads not long enough: 7114\n"
     ]
    }
   ],
   "source": [
    "# filter reads by score\n",
    "seq_only=[]\n",
    "seq_l=[]\n",
    "smaller=0\n",
    "for i in range(0, len(doc1[:]), 4):\n",
    "    seq1 = doc1[i+1]\n",
    "    seq1 = str(seq1[:-1], encoding='utf-8')\n",
    "    score1 = doc1[i+3]\n",
    "    score1 = str(score1[:-1], encoding='utf-8')\n",
    "    l = len(seq1)\n",
    "    if l < 272: #272 is the minimum size we accept (to capture all of the stemloop that contain stop codon, etc)\n",
    "        smaller+=1\n",
    "        continue\n",
    "    if string2ascii(score1,l) > 30: # 1 in 1000\n",
    "        seq_only.append(seq1)\n",
    "        seq_l.append(l)\n",
    "print('High quality reads:',len(seq_l))\n",
    "print(\"--> Fraction of high quality reads:\", len(seq_l)/total_reads)\n",
    "print(\"Reads not long enough:\", smaller)"
   ]
  },
  {
   "cell_type": "code",
   "execution_count": 5,
   "id": "cde2efbf",
   "metadata": {},
   "outputs": [
    {
     "data": {
      "text/plain": [
       "356.0"
      ]
     },
     "execution_count": 5,
     "metadata": {},
     "output_type": "execute_result"
    }
   ],
   "source": [
    "np.median(seq_l)"
   ]
  },
  {
   "cell_type": "code",
   "execution_count": 6,
   "id": "27fb1114",
   "metadata": {},
   "outputs": [
    {
     "data": {
      "text/plain": [
       "6.869340967595127"
      ]
     },
     "execution_count": 6,
     "metadata": {},
     "output_type": "execute_result"
    }
   ],
   "source": [
    "np.std(seq_l)"
   ]
  },
  {
   "cell_type": "code",
   "execution_count": 7,
   "id": "3da0f369",
   "metadata": {},
   "outputs": [
    {
     "name": "stdout",
     "output_type": "stream",
     "text": [
      "Not edited: 298146\n",
      "Edited: 698\n",
      "Non-amplicon reads: 5332\n",
      "Total reads: 304176\n",
      "\n",
      "% of non-amplicon reads: 1.7529325127557729\n",
      "% of edited reporter (all reads) 0.22947241070958918\n",
      "% of not edited reporter (all reads) 98.01759507653463\n",
      "----> % of edited reporter (amplicon reads) 0.2335666769284309\n",
      "% of not edited reporter (amplicon reads) 99.76643332307157\n"
     ]
    }
   ],
   "source": [
    "c = 0\n",
    "ed = 0\n",
    "non = 0\n",
    "non_seq = []\n",
    "\n",
    "#Only looking at forward strand as FLASH merged the pair reads, leaving us with only forward strands. \n",
    "#Given that there are no other \"A\", we should not see any edit and if we do we wouldn't be able to tell if\n",
    "#it was caused by ADAR so we discard it!\n",
    "for s1 in seq_only[:]:\n",
    "  if   'CCTCCGTTTAGGTGGGTGG' in str(s1):\n",
    "    c=c+1\n",
    "  elif 'CCTCCGTTTGGGTGGGTGG' in str(s1):\n",
    "    ed=ed+1\n",
    "  else:\n",
    "    non=non+1\n",
    "    non_seq.append(s1)\n",
    "\n",
    "print('Not edited:',c)\n",
    "print('Edited:',ed)\n",
    "print('Non-amplicon reads:',non) # reads that didn't map to sequence (~1-2%)\n",
    "print('Total reads:',c+ed+non, end='\\n\\n')\n",
    "\n",
    "print('% of non-amplicon reads:', 100*non/(c+ed+non))\n",
    "print('% of edited reporter (all reads)', 100*ed/(c+ed+non))\n",
    "print('% of not edited reporter (all reads)', 100*c/(c+ed+non))\n",
    "\n",
    "#we care about the % of reads that are edit and were mapped to sequence\n",
    "print('----> % of edited reporter (amplicon reads)', 100*ed/(c+ed)) \n",
    "print('% of not edited reporter (amplicon reads)', 100*c/(c+ed))"
   ]
  },
  {
   "cell_type": "code",
   "execution_count": 51,
   "id": "c6fc32b7",
   "metadata": {},
   "outputs": [],
   "source": [
    "#eLIDAR\n",
    "#N1 = 3.3681\n",
    "#n2 = 3.5284\n",
    "#n3 = 3.3679\n",
    "#p1 = 0.2618\n",
    "#p2 = 0.2745\n",
    "#p3 = 0.2335"
   ]
  },
  {
   "cell_type": "code",
   "execution_count": null,
   "id": "f5ccc804",
   "metadata": {},
   "outputs": [],
   "source": []
  },
  {
   "cell_type": "code",
   "execution_count": null,
   "id": "49980e33",
   "metadata": {},
   "outputs": [],
   "source": []
  }
 ],
 "metadata": {
  "kernelspec": {
   "display_name": "Python 3 (ipykernel)",
   "language": "python",
   "name": "python3"
  },
  "language_info": {
   "codemirror_mode": {
    "name": "ipython",
    "version": 3
   },
   "file_extension": ".py",
   "mimetype": "text/x-python",
   "name": "python",
   "nbconvert_exporter": "python",
   "pygments_lexer": "ipython3",
   "version": "3.8.12"
  }
 },
 "nbformat": 4,
 "nbformat_minor": 5
}
