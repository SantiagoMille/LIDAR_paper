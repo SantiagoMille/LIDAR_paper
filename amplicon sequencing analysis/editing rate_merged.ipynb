{
 "cells": [
  {
   "cell_type": "code",
   "execution_count": 44,
   "id": "292db9d8",
   "metadata": {},
   "outputs": [],
   "source": [
    "import numpy as np\n",
    "import gzip\n",
    "f = gzip.open('./eLIDAR/P3/P3.extendedFrags.fastq.gz')\n",
    "doc1 = f.readlines()\n",
    "f.close()\n",
    "# 6 4 1"
   ]
  },
  {
   "cell_type": "code",
   "execution_count": 45,
   "id": "6e4880dd",
   "metadata": {},
   "outputs": [
    {
     "name": "stdout",
     "output_type": "stream",
     "text": [
      "total # of reads: 334022.0\n"
     ]
    }
   ],
   "source": [
    "total_reads = len(doc1)/4\n",
    "print('total # of reads:',total_reads)"
   ]
  },
  {
   "cell_type": "code",
   "execution_count": 46,
   "id": "199dcf3c",
   "metadata": {},
   "outputs": [],
   "source": [
    "def string2ascii(s, l):\n",
    "    scores = [ord(c)-33 for c in s]\n",
    "    for i in range(len(scores)-3):\n",
    "        if ((scores[i]+scores[i+1]+scores[i+2]+scores[i+3])/3)<27:\n",
    "            return 1\n",
    "    return sum(scores)/l"
   ]
  },
  {
   "cell_type": "code",
   "execution_count": 47,
   "id": "6c613a25",
   "metadata": {},
   "outputs": [
    {
     "name": "stdout",
     "output_type": "stream",
     "text": [
      "High quality reads: 304176\n",
      "--> Fraction of high quality reads: 0.9106466041158966\n",
      "Reads not long enough: 7114\n"
     ]
    }
   ],
   "source": [
    "seq_only=[]\n",
    "seq_l=[]\n",
    "smaller=0\n",
    "for i in range(0, len(doc1[:]), 4):\n",
    "    seq1 = doc1[i+1]\n",
    "    seq1 = str(seq1[:-1], encoding='utf-8')\n",
    "    score1 = doc1[i+3]\n",
    "    score1 = str(score1[:-1], encoding='utf-8')\n",
    "    l = len(seq1)\n",
    "    if l < 272:\n",
    "        smaller+=1\n",
    "        continue\n",
    "    if string2ascii(score1,l) > 30: # 1 in 1000\n",
    "        seq_only.append(seq1)\n",
    "        seq_l.append(l)\n",
    "print('High quality reads:',len(seq_l))\n",
    "print(\"--> Fraction of high quality reads:\", len(seq_l)/total_reads)\n",
    "print(\"Reads not long enough:\", smaller)"
   ]
  },
  {
   "cell_type": "code",
   "execution_count": 48,
   "id": "cde2efbf",
   "metadata": {},
   "outputs": [
    {
     "data": {
      "text/plain": [
       "356.0"
      ]
     },
     "execution_count": 48,
     "metadata": {},
     "output_type": "execute_result"
    }
   ],
   "source": [
    "np.median(seq_l)"
   ]
  },
  {
   "cell_type": "code",
   "execution_count": 49,
   "id": "27fb1114",
   "metadata": {},
   "outputs": [
    {
     "data": {
      "text/plain": [
       "6.869340967595127"
      ]
     },
     "execution_count": 49,
     "metadata": {},
     "output_type": "execute_result"
    }
   ],
   "source": [
    "np.std(seq_l)"
   ]
  },
  {
   "cell_type": "code",
   "execution_count": 50,
   "id": "3da0f369",
   "metadata": {},
   "outputs": [
    {
     "name": "stdout",
     "output_type": "stream",
     "text": [
      "Not edited: 298146\n",
      "Edited: 698\n",
      "Non-amplicon reads: 5332\n",
      "Total reads: 304176\n",
      "\n",
      "% of non-amplicon reads: 1.7529325127557729\n",
      "% of edited reporter (all reads) 0.22947241070958918\n",
      "% of not edited reporter (all reads) 98.01759507653463\n",
      "----> % of edited reporter (amplicon reads) 0.2335666769284309\n",
      "% of not edited reporter (amplicon reads) 99.76643332307157\n"
     ]
    }
   ],
   "source": [
    "c = 0\n",
    "ed = 0\n",
    "non = 0\n",
    "non_seq = []\n",
    "\n",
    "for s1 in seq_only[:]:\n",
    "  if   'CCTCCGTTTAGGTGGGTGG' in str(s1):\n",
    "    c=c+1\n",
    "  elif 'CCTCCGTTTGGGTGGGTGG' in str(s1):\n",
    "    ed=ed+1\n",
    "  else:\n",
    "    non=non+1\n",
    "    non_seq.append(s1)\n",
    "\n",
    "print('Not edited:',c)\n",
    "print('Edited:',ed)\n",
    "print('Non-amplicon reads:',non)\n",
    "print('Total reads:',c+ed+non, end='\\n\\n')\n",
    "\n",
    "print('% of non-amplicon reads:', 100*non/(c+ed+non))\n",
    "print('% of edited reporter (all reads)', 100*ed/(c+ed+non))\n",
    "print('% of not edited reporter (all reads)', 100*c/(c+ed+non))\n",
    "print('----> % of edited reporter (amplicon reads)', 100*ed/(c+ed))\n",
    "print('% of not edited reporter (amplicon reads)', 100*c/(c+ed))"
   ]
  },
  {
   "cell_type": "code",
   "execution_count": 51,
   "id": "c6fc32b7",
   "metadata": {},
   "outputs": [],
   "source": [
    "#eLIDAR\n",
    "#N1 = 3.3681\n",
    "#n2 = 3.5284\n",
    "#n3 = 3.3679\n",
    "#p1 = 0.2618\n",
    "#p2 = 0.2745\n",
    "#p3 = 0.2335"
   ]
  },
  {
   "cell_type": "code",
   "execution_count": null,
   "id": "f5ccc804",
   "metadata": {},
   "outputs": [],
   "source": []
  },
  {
   "cell_type": "code",
   "execution_count": null,
   "id": "49980e33",
   "metadata": {},
   "outputs": [],
   "source": []
  },
  {
   "cell_type": "code",
   "execution_count": 52,
   "id": "e649947d",
   "metadata": {},
   "outputs": [
    {
     "data": {
      "text/plain": [
       "5332"
      ]
     },
     "execution_count": 52,
     "metadata": {},
     "output_type": "execute_result"
    }
   ],
   "source": [
    "len(non_seq)"
   ]
  },
  {
   "cell_type": "code",
   "execution_count": 53,
   "id": "ad132d38",
   "metadata": {
    "scrolled": false
   },
   "outputs": [],
   "source": [
    "from Bio import pairwise2"
   ]
  },
  {
   "cell_type": "code",
   "execution_count": 54,
   "id": "2a45b935",
   "metadata": {},
   "outputs": [],
   "source": [
    "e=0\n",
    "ne=0\n",
    "for s in non_seq[:]:\n",
    "    alignment = pairwise2.align.localms(s, \"CCGTTTAGGTGGG\", 1, 0, -100, -100)\n",
    "    score = alignment[0].score\n",
    "    start=alignment[0].start\n",
    "    if score < 12:\n",
    "        alignment = pairwise2.align.localms(s, \"CCGTTTGGGTGGG\", 1, 0, -100, -100)\n",
    "        score = alignment[0].score\n",
    "        if score < 12 or start != alignment[0].start:\n",
    "            continue\n",
    "        else:\n",
    "            e=e+1\n",
    "    else:\n",
    "        ne=ne+1"
   ]
  },
  {
   "cell_type": "code",
   "execution_count": 55,
   "id": "cfcb8da0",
   "metadata": {},
   "outputs": [
    {
     "data": {
      "text/plain": [
       "(4, 2075, 0.0019277108433734939)"
      ]
     },
     "execution_count": 55,
     "metadata": {},
     "output_type": "execute_result"
    }
   ],
   "source": [
    "e, ne, e/ne"
   ]
  },
  {
   "cell_type": "code",
   "execution_count": 56,
   "id": "baec7483",
   "metadata": {},
   "outputs": [
    {
     "name": "stdout",
     "output_type": "stream",
     "text": [
      "Not edited: 300221\n",
      "Edited: 702\n",
      "Final fraction: 0.23328226822143872\n"
     ]
    }
   ],
   "source": [
    "c+=ne\n",
    "ed+=e\n",
    "\n",
    "print('Not edited:',c)\n",
    "print('Edited:',ed)\n",
    "print('Final fraction:',100*ed/(ed+c))"
   ]
  },
  {
   "cell_type": "code",
   "execution_count": null,
   "id": "e76b3d03",
   "metadata": {},
   "outputs": [],
   "source": []
  },
  {
   "cell_type": "code",
   "execution_count": null,
   "id": "1c3dca76",
   "metadata": {},
   "outputs": [],
   "source": []
  },
  {
   "cell_type": "code",
   "execution_count": null,
   "id": "7b984f53",
   "metadata": {},
   "outputs": [],
   "source": []
  }
 ],
 "metadata": {
  "kernelspec": {
   "display_name": "Python 3 (ipykernel)",
   "language": "python",
   "name": "python3"
  },
  "language_info": {
   "codemirror_mode": {
    "name": "ipython",
    "version": 3
   },
   "file_extension": ".py",
   "mimetype": "text/x-python",
   "name": "python",
   "nbconvert_exporter": "python",
   "pygments_lexer": "ipython3",
   "version": "3.8.12"
  }
 },
 "nbformat": 4,
 "nbformat_minor": 5
}
